{
 "cells": [
  {
   "cell_type": "code",
   "execution_count": null,
   "metadata": {},
   "outputs": [],
   "source": [
    "# load necessary python modules\n",
    "import numpy as np\n",
    "import scipy as scp\n",
    "import scipy.io\n",
    "import scipy.signal\n",
    "import rpy2.robjects as rp\n",
    "\n",
    "subject = 'CON02T1';  # specify subject to analyse\n",
    "speed = 100     # specify which speed to analyse, this was done to split analysis across multiple cores\n",
    "\n",
    "\n",
    "# specify where all empirical functional connectivities can be found\n",
    "path_to_all_empirical_FCs = \"/home/jovyan/CON02T1_csf_0.05_speed_100.mat\"\n",
    "# load the empirical FC as a numpy array, i.e. a 2D matrix with dimensions [68,68]\n",
    "empFC      = scipy.io.loadmat(path_to_all_empirical_FCs)"
   ]
  },
  {
   "cell_type": "code",
   "execution_count": null,
   "metadata": {},
   "outputs": [],
   "source": [
    "# initialis arrays to store analysis data\n",
    "all_simFC  = np.zeros((151,68,68)) # to store simulated FCs\n",
    "sim_empFC  = np.zeros((151,1))     # to store the results of simulated to empirical FC comparison\n",
    "\n",
    "avg_bimod = np.zeros((151,4))     # store statistics of bimodality tests for the average across all region signal, csf*[ p_dip, stat_Dip, p_dip_log, stat_Dip_log]\n",
    "avg_freq  = np.zeros((151))       # store dominant frequency for the average across all region signal\n",
    "reg_bimod = np.zeros((151,68,4))  # store statistics of bimodality tests for each region, csf*region*[p_dip, stat_Dip, p_dip_log, stat_Dip_log]\n",
    "reg_freq  = np.zeros((151,68))    # store dominant frequency for each region"
   ]
  },
  {
   "cell_type": "code",
   "execution_count": null,
   "metadata": {},
   "outputs": [],
   "source": [
    "# global coupling scaling factor to loop across\n",
    "#CSF = np.arange(0.025,0.0401,0.0001)\n",
    "CSF = np.arange(0.05,0.05)\n",
    "\n",
    "# importing Hartigan's diptest for bimodality from R\n",
    "# this package needs to be installed in the R distribution\n",
    "d   = rp.r('diptest::dip.test')"
   ]
  },
  {
   "cell_type": "code",
   "execution_count": 18,
   "metadata": {},
   "outputs": [],
   "source": [
    "# specify where simulations are stored\n",
    "sim_results_path = '/home/jovyan/'\n",
    "for csf in range(len(CSF)):\n",
    "    \n",
    "    #load simulated timeseries, subsampled neural signal and BOLD/fMRI\n",
    "    subs = scp.io.loadmat(sim_results_path + subject +'_csf_'+str(CSF[csf])+'_speed_'+str(speed)+'.mat')['subs_data'].mean(axis=1)\n",
    "    subs = subs[2*200:,:]\n",
    "    bold = scp.io.loadmat(sim_results_path + subject +'_csf_'+str(CSF[csf])+'_speed_'+str(speed)+'.mat')['bold_data']\n",
    "    bold = np.squeeze(bold[40:,:,:,:].mean(axis=(1,3))).T\n",
    "    \n",
    "    # calculate simulated to empirical FC fit\n",
    "    all_simFC[csf,:,:] = np.corrcoef(bold)\n",
    "    \n",
    "    sim_empFC[csf] = np.corrcoef(all_simFC[csf,:,:].flatten(),empFC.flatten())[0,1]\n",
    "    \n",
    "\n",
    "    # calculate statistics for average signal\n",
    "    f, t, Sxx  = scp.signal.spectrogram(subs.mean(axis=1), fs=200, window=('tukey', 0.25), nperseg=128, noverlap=110, nfft=4*200)\n",
    "    mean_power = np.mean(Sxx, axis=1)\n",
    "\n",
    "    # dominant frquency\n",
    "    avg_freq[csf]   = f[np.argmax(mean_power)]\n",
    "\n",
    "    # bimodality\n",
    "    dip = d(rp.FloatVector((Sxx[np.argmax(mean_power),:])))\n",
    "    avg_bimod[csf,0] = dip[1][0]\n",
    "    avg_bimod[csf,1] = dip[0][0]\n",
    "    \n",
    "    # now for log(power)\n",
    "    dip = d(rp.FloatVector((np.log(Sxx[np.argmax(mean_power),:]))))\n",
    "    avg_bimod[csf,2] = dip[1][0]\n",
    "    avg_bimod[csf,3] = dip[0][0]\n",
    "    \n",
    "\n",
    "    \n",
    "    # calculate statistis for each region\n",
    "    for i in range(68):\n",
    "        # dominant frequency\n",
    "        f, t, Sxx = scp.signal.spectrogram(subs[:,i], fs=200, window=('tukey', 0.25), nperseg=128, noverlap=110, nfft=4*200)\n",
    "        mean_power = np.mean(Sxx, axis=1)\n",
    "        reg_freq[csf,i]   = f[np.argmax(mean_power)]\n",
    "\n",
    "        # bimdality test                       \n",
    "        dip = d(rp.FloatVector((Sxx[np.argmax(mean_power),:])))\n",
    "        reg_bimod[csf,i,0] = dip[1][0]\n",
    "        reg_bimod[csf,i,1] = dip[0][0]\n",
    "        \n",
    "        #now for log(power)\n",
    "        dip = d(rp.FloatVector((np.log(Sxx[np.argmax(mean_power),:]))))\n",
    "        reg_bimod[csf,i,2] = dip[1][0]\n",
    "        reg_bimod[csf,i,3] = dip[0][0]"
   ]
  },
  {
   "cell_type": "code",
   "execution_count": 20,
   "metadata": {},
   "outputs": [],
   "source": [
    "#save results, specify a path here\n",
    "save_path = '/home/jovyan/'\n",
    "file = save_path+subject+\"_speed_\"+str(speed)+\".mat\"\n",
    "scipy.io.savemat(file,mdict={'all_simFC': all_simFC, 'sim_empFC':sim_empFC, 'avg_bimod':avg_bimod, \n",
    "                             'avg_freq': avg_freq, 'reg_bimod': reg_bimod, 'reg_freq ':reg_freq})"
   ]
  },
  {
   "cell_type": "code",
   "execution_count": null,
   "metadata": {},
   "outputs": [],
   "source": []
  }
 ],
 "metadata": {
  "kernelspec": {
   "display_name": "Python 3",
   "language": "python",
   "name": "python3"
  },
  "language_info": {
   "codemirror_mode": {
    "name": "ipython",
    "version": 3
   },
   "file_extension": ".py",
   "mimetype": "text/x-python",
   "name": "python",
   "nbconvert_exporter": "python",
   "pygments_lexer": "ipython3",
   "version": "3.7.8"
  }
 },
 "nbformat": 4,
 "nbformat_minor": 4
}
