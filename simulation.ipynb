{
 "cells": [
  {
   "cell_type": "code",
   "execution_count": 1,
   "metadata": {},
   "outputs": [],
   "source": [
    "# load necessary python modules\n",
    "import numpy\n",
    "import scipy\n",
    "import os\n",
    "# load TVB library\n",
    "from tvb.simulator.lab import *\n",
    "from tvb.basic.readers import FileReader"
   ]
  },
  {
   "cell_type": "code",
   "execution_count": 2,
   "metadata": {
    "scrolled": true
   },
   "outputs": [],
   "source": [
    "# set up the simulation\n",
    "\n",
    "# select the SJHMR3D model as the local model and define its parameters\n",
    "# for delta series choose \n",
    "#oscilator = models.ReducedSetHindmarshRose(r=[0.006], a=[1.0], b=[3.0], c=[1.0], d=[5.0], s=[4.0], xo=[-1.6], K11=[0.5], K12=[0.1], K21=[0.15], sigma=[0.3], mu=[2.2], variables_of_interest=[\"xi\",\"alpha\"])\n",
    "oscilator = models.ReducedSetHindmarshRose(r=numpy.array([0.006]), variables_of_interest=[\"xi\",\"alpha\"])\n",
    "oscilator.configure()\n",
    "\n",
    "# for alpha series uncomment the below code\n",
    "# oscilator = models.ReducedSetHindmarshRose(r=[0.006], a=[1.0], b=[3.0], c=[1.0], d=[5.0], s=[4.0], xo=[-1.6], K11=[4.0], K12=[1.6], K21=[0.15], sigma=[0.4], mu=[2.2], variables_of_interest=[\"xi\",\"alpha\"])\n",
    "# oscilator.configure()"
   ]
  },
  {
   "cell_type": "code",
   "execution_count": 4,
   "metadata": {},
   "outputs": [
    {
     "name": "stderr",
     "output_type": "stream",
     "text": [
      "/opt/conda/lib/python3.7/site-packages/tvb/basic/readers.py:126: UserWarning: loadtxt: Empty input file: \"/home/jovyan/CON02T1/tract_lengths.txt\"\n",
      "  array_result = numpy.loadtxt(file_stream, dtype=dtype, skiprows=skip_rows, usecols=use_cols)\n"
     ]
    }
   ],
   "source": [
    "# set up the structural connectivity\n",
    "mypath=\"/home/jovyan\"  # insert the path to where all subjects connectivities are stored\n",
    "subject=\"CON02T1\" # specify which subject to load\n",
    "\n",
    "# load connectivity weights\n",
    "reader = FileReader(file_path= mypath +'/' + subject +'/weights.txt')\n",
    "w= reader.read_array(dtype=numpy.float64, skip_rows=0, use_cols=None, matlab_data_name=None)\n",
    "\n",
    "# load region centers\n",
    "reader = FileReader(file_path=mypath +'/' + subject +'/centres.txt')    \n",
    "rl= reader.read_array( dtype=numpy.str, skip_rows=0, use_cols=(0,), matlab_data_name=None)\n",
    "c= reader.read_array(dtype=numpy.float64, skip_rows=0, use_cols=(1, 2, 3), matlab_data_name=None)\n",
    "\n",
    "# load connectivity tract lengths\n",
    "reader = FileReader(file_path=mypath +'/' + subject +'/tract_lengths.txt')\n",
    "tl= reader.read_array(dtype=numpy.float64, skip_rows=0, use_cols=None, matlab_data_name=None)\n",
    "\n",
    "# confige the connectivity\n",
    "white_matter = connectivity.Connectivity(region_labels=rl, weights=w, tract_lengths=tl, centres=c)        "
   ]
  },
  {
   "cell_type": "code",
   "execution_count": 5,
   "metadata": {},
   "outputs": [],
   "source": [
    "# specify the coupling function\n",
    "# here a linear scaling function was used\n",
    "# csf --> global coupling scaling factor\n",
    "# is one of the parameters explored in this study\n",
    "# for delta series it was varied from 0.05 to 0.25 in steps of 0.01\n",
    "# for alpha series it was varied from 0.025 to 0.04 in steps of 0.001\n",
    "# in this simulation one one value is chosen, but loop across all values to reproduce the findings of the paper\n",
    "csf = 0.05\n",
    "white_matter_coupling = coupling.Linear(a=numpy.array([0.05]), b=numpy.array([0.0]))\n",
    "white_matter_coupling.configure()"
   ]
  },
  {
   "cell_type": "code",
   "execution_count": 6,
   "metadata": {},
   "outputs": [],
   "source": [
    "# specify a conduction speed to calculate time delays in the network \n",
    "# the 2nd parameter that was explored in this study\n",
    "# for delta series it was varied from 20 to 100 in steps of 100\n",
    "# for alpha series it was varied from 10 to 100 in steps of 10\n",
    "# in this simulation one one value is chosen, but loop across all values to reproduce the findings of the paper\n",
    "speed=100\n",
    "\n",
    "# set up the integration scheme to solve the differential equations\n",
    "# for delta series choose\n",
    "heunint = integrators.HeunStochastic(dt=0.01220703125, noise=noise.Additive(nsig=numpy.array([1.0])))\n",
    "\n",
    "# for alpha series uncomment the below code\n",
    "#heunint = integrators.HeunStochastic(dt=0.05, noise=noise.Additive(nsig=numpy.array([0.001])))"
   ]
  },
  {
   "cell_type": "code",
   "execution_count": 7,
   "metadata": {},
   "outputs": [],
   "source": [
    "# specify what data to record from the simulation using tvb monitory\n",
    "# choose subsampling of the neural signal\n",
    "p=3.90625 #<-- 256Hz\n",
    "momo = monitors.SubSample(period=p)\n",
    "\n",
    "# choose to generate BOLD signal using a hemodynamic response function\n",
    "hrffunction=equations.MixtureOfGammas()\n",
    "pb=500\n",
    "mama = monitors.Bold(period=pb, hrf_kernel=hrffunction)\n",
    "\n",
    "# put both monitors together\n",
    "what_to_watch = (momo, mama)\n",
    "\n",
    "# configure the simulation\n",
    "sim = simulator.Simulator(model=oscilator, connectivity=white_matter,\n",
    "                          coupling=white_matter_coupling, conduction_speed=speed,\n",
    "                          integrator=heunint, monitors=what_to_watch)\n",
    "\n",
    "sim.configure()\n",
    "\n",
    "# specify simulation length\n",
    "# for delta series choose\n",
    "# sim_length = 180000\n",
    "\n",
    "# for alpha series uncomment the below code\n",
    "# sim_length = 300000\n",
    "\n",
    "# for alpha series 22min simulation length use\n",
    "# sim_length = 1320000\n",
    "\n",
    "sim_length = 1000"
   ]
  },
  {
   "cell_type": "code",
   "execution_count": 8,
   "metadata": {},
   "outputs": [],
   "source": [
    "# perform the simulation\n",
    "subs_data = []\n",
    "subs_time = []\n",
    "bold_data = []\n",
    "bold_time = []\n",
    "\n",
    "for subs, bold in sim(simulation_length=sim_length):\n",
    "    if not subs is None:\n",
    "        subs_time.append(subs[0])\n",
    "        subs_data.append(subs[1])\n",
    "    \n",
    "    if not bold is None:\n",
    "        bold_time.append(bold[0])\n",
    "        bold_data.append(bold[1])"
   ]
  },
  {
   "cell_type": "code",
   "execution_count": 10,
   "metadata": {},
   "outputs": [],
   "source": [
    "# save the simulated time series\n",
    "# declare a path where data should be saved\n",
    "save_path=\"/home/jovyan\"\n",
    "SUBS  = numpy.sum(numpy.array(subs_data),axis=3)\n",
    "TSUBS = numpy.array(subs_time)\n",
    "BOLD  = numpy.array(bold_data)\n",
    "TBOLD = numpy.array(bold_time)\n",
    "subsfile =save_path+'/'+subject+'_csf_'+str(csf) +'_speed_' +str(speed) +'.mat'\n",
    "scipy.io.savemat(subsfile, mdict={'subs_data': SUBS, 'subs_time': TSUBS ,'bold_data': BOLD, 'bold_time': TBOLD })"
   ]
  },
  {
   "cell_type": "code",
   "execution_count": null,
   "metadata": {},
   "outputs": [],
   "source": []
  }
 ],
 "metadata": {
  "kernelspec": {
   "display_name": "Python 3",
   "language": "python",
   "name": "python3"
  },
  "language_info": {
   "codemirror_mode": {
    "name": "ipython",
    "version": 3
   },
   "file_extension": ".py",
   "mimetype": "text/x-python",
   "name": "python",
   "nbconvert_exporter": "python",
   "pygments_lexer": "ipython3",
   "version": "3.7.8"
  }
 },
 "nbformat": 4,
 "nbformat_minor": 4
}
