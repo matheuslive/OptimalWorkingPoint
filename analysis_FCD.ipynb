{
 "cells": [
  {
   "cell_type": "code",
   "execution_count": 1,
   "metadata": {},
   "outputs": [],
   "source": [
    "# load necessary python modules\n",
    "import scipy.io as sio\n",
    "import numpy as np\n",
    "import rpy2.robjects as rp\n",
    "import rpy2.robjects.numpy2ri\n",
    "rpy2.robjects.numpy2ri.activate()"
   ]
  },
  {
   "cell_type": "code",
   "execution_count": 2,
   "metadata": {},
   "outputs": [],
   "source": [
    "# define a function to calculate FCD\n",
    "def FCD(BOLD, window_length, overlap):\n",
    "    \"\"\"\n",
    "    BOLD singal   ....[regions * samples]\n",
    "    window length ....[samples]\n",
    "    overlap       ....[samples] \n",
    "\n",
    "    output: \n",
    "    FCD           ....[number_windows * number_windows]\n",
    "    \"\"\"\n",
    "    import numpy as np\n",
    "    n_regions = BOLD.shape[0]\n",
    "    window_steps_size = window_length - overlap;\n",
    "    n_windows = int(np.round((BOLD.shape[1] - window_length) / window_steps_size + 1))\n",
    "\n",
    "    #compute FC for each window\n",
    "    FC_t = np.zeros((n_regions,n_regions,n_windows))\n",
    "    for i in range(n_windows):\n",
    "        FC_t[:,:,i] = np.corrcoef(BOLD[:,window_steps_size*i:window_length+window_steps_size*i])\n",
    "    \n",
    "    \n",
    "    # transform FC matrix into vector by just taking the upper triangle\n",
    "    a,b =np.triu_indices(n_regions,1)\n",
    "    tFC = FC_t[a,b,:].T\n",
    "    \n",
    "    \n",
    "    # compute FCD, correlate the FCs with each other\n",
    "    FCD = np.corrcoef(tFC);\n",
    "    \n",
    "    return FCD, FC_t"
   ]
  },
  {
   "cell_type": "code",
   "execution_count": 3,
   "metadata": {},
   "outputs": [
    {
     "data": {
      "text/plain": [
       "array([[[0., 0., 0., ..., 0., 0., 0.],\n",
       "        [0., 0., 0., ..., 0., 0., 0.],\n",
       "        [0., 0., 0., ..., 0., 0., 0.],\n",
       "        ...,\n",
       "        [0., 0., 0., ..., 0., 0., 0.],\n",
       "        [0., 0., 0., ..., 0., 0., 0.],\n",
       "        [0., 0., 0., ..., 0., 0., 0.]]])"
      ]
     },
     "execution_count": 3,
     "metadata": {},
     "output_type": "execute_result"
    }
   ],
   "source": [
    "# calculate all empirical FCDs\n",
    "subj_list = [\"CON02T1\"]          # specify a list of subject IDs here\n",
    "path_to_empirical_fmri = \"/home/jovyan\"  # path to find empirical fmri data\n",
    "all_FCDs = np.zeros((len(subj_list),64,64)) # initialise array to store FCDs\n",
    "all_FCDs"
   ]
  },
  {
   "cell_type": "code",
   "execution_count": 4,
   "metadata": {},
   "outputs": [
    {
     "ename": "AttributeError",
     "evalue": "'dict' object has no attribute 'shape'",
     "output_type": "error",
     "traceback": [
      "\u001b[0;31m---------------------------------------------------------------------------\u001b[0m",
      "\u001b[0;31mAttributeError\u001b[0m                            Traceback (most recent call last)",
      "\u001b[0;32m<ipython-input-4-d4354b4c5973>\u001b[0m in \u001b[0;36m<module>\u001b[0;34m\u001b[0m\n\u001b[1;32m      7\u001b[0m     \u001b[0;31m#compute empirical FCD\u001b[0m\u001b[0;34m\u001b[0m\u001b[0;34m\u001b[0m\u001b[0;34m\u001b[0m\u001b[0m\n\u001b[1;32m      8\u001b[0m \u001b[0;34m\u001b[0m\u001b[0m\n\u001b[0;32m----> 9\u001b[0;31m     \u001b[0mall_FCDs\u001b[0m\u001b[0;34m[\u001b[0m\u001b[0mi\u001b[0m\u001b[0;34m,\u001b[0m\u001b[0;34m:\u001b[0m\u001b[0;34m,\u001b[0m\u001b[0;34m:\u001b[0m\u001b[0;34m]\u001b[0m\u001b[0;34m,\u001b[0m \u001b[0m_\u001b[0m      \u001b[0;34m=\u001b[0m \u001b[0mFCD\u001b[0m\u001b[0;34m(\u001b[0m\u001b[0mBOLD\u001b[0m\u001b[0;34m,\u001b[0m\u001b[0mwindow_length\u001b[0m\u001b[0;34m,\u001b[0m\u001b[0moverlap\u001b[0m\u001b[0;34m)\u001b[0m\u001b[0;34m\u001b[0m\u001b[0;34m\u001b[0m\u001b[0m\n\u001b[0m\u001b[1;32m     10\u001b[0m     \u001b[0mprint\u001b[0m\u001b[0;34m(\u001b[0m\u001b[0mi\u001b[0m\u001b[0;34m)\u001b[0m\u001b[0;34m\u001b[0m\u001b[0;34m\u001b[0m\u001b[0m\n",
      "\u001b[0;32m<ipython-input-2-a134cc307789>\u001b[0m in \u001b[0;36mFCD\u001b[0;34m(BOLD, window_length, overlap)\u001b[0m\n\u001b[1;32m     10\u001b[0m     \"\"\"\n\u001b[1;32m     11\u001b[0m     \u001b[0;32mimport\u001b[0m \u001b[0mnumpy\u001b[0m \u001b[0;32mas\u001b[0m \u001b[0mnp\u001b[0m\u001b[0;34m\u001b[0m\u001b[0;34m\u001b[0m\u001b[0m\n\u001b[0;32m---> 12\u001b[0;31m     \u001b[0mn_regions\u001b[0m \u001b[0;34m=\u001b[0m \u001b[0mBOLD\u001b[0m\u001b[0;34m.\u001b[0m\u001b[0mshape\u001b[0m\u001b[0;34m[\u001b[0m\u001b[0;36m0\u001b[0m\u001b[0;34m]\u001b[0m\u001b[0;34m\u001b[0m\u001b[0;34m\u001b[0m\u001b[0m\n\u001b[0m\u001b[1;32m     13\u001b[0m     \u001b[0mwindow_steps_size\u001b[0m \u001b[0;34m=\u001b[0m \u001b[0mwindow_length\u001b[0m \u001b[0;34m-\u001b[0m \u001b[0moverlap\u001b[0m\u001b[0;34m;\u001b[0m\u001b[0;34m\u001b[0m\u001b[0;34m\u001b[0m\u001b[0m\n\u001b[1;32m     14\u001b[0m     \u001b[0mn_windows\u001b[0m \u001b[0;34m=\u001b[0m \u001b[0mint\u001b[0m\u001b[0;34m(\u001b[0m\u001b[0mnp\u001b[0m\u001b[0;34m.\u001b[0m\u001b[0mround\u001b[0m\u001b[0;34m(\u001b[0m\u001b[0;34m(\u001b[0m\u001b[0mBOLD\u001b[0m\u001b[0;34m.\u001b[0m\u001b[0mshape\u001b[0m\u001b[0;34m[\u001b[0m\u001b[0;36m1\u001b[0m\u001b[0;34m]\u001b[0m \u001b[0;34m-\u001b[0m \u001b[0mwindow_length\u001b[0m\u001b[0;34m)\u001b[0m \u001b[0;34m/\u001b[0m \u001b[0mwindow_steps_size\u001b[0m \u001b[0;34m+\u001b[0m \u001b[0;36m1\u001b[0m\u001b[0;34m)\u001b[0m\u001b[0;34m)\u001b[0m\u001b[0;34m\u001b[0m\u001b[0;34m\u001b[0m\u001b[0m\n",
      "\u001b[0;31mAttributeError\u001b[0m: 'dict' object has no attribute 'shape'"
     ]
    }
   ],
   "source": [
    "# parameters for the FCD\n",
    "window_length = 30; #[samples]\n",
    "overlap       = 20; #[samples] \n",
    "for i in range(len(subj_list)):    \n",
    "    #load empirical BOLD data from matlab format\n",
    "    BOLD = sio.loadmat(path_to_empirical_fmri + '/' + subj_list[i] + '.mat')    \n",
    "    #compute empirical FCD\n",
    "    \n",
    "    all_FCDs[i,:,:], _      = FCD(BOLD,window_length,overlap)\n",
    "    print(i)"
   ]
  },
  {
   "cell_type": "code",
   "execution_count": 51,
   "metadata": {},
   "outputs": [
    {
     "data": {
      "text/plain": [
       "{'__header__': b'MATLAB 5.0 MAT-file, written by Octave 4.0.2, 2017-01-23 10:30:38 UTC',\n",
       " '__version__': '1.0',\n",
       " '__globals__': [],\n",
       " 'CON02T1_ROIts': array([[ 1223.39299, 12092.66555, 10375.44399, ...,  5130.33761,\n",
       "         10968.59094, 10996.56872],\n",
       "        [ 1219.7186 , 12081.63285, 10393.49166, ...,  5039.99379,\n",
       "         10946.65669, 10947.41631],\n",
       "        [ 1212.46604, 12083.56704, 10347.83713, ...,  5097.18374,\n",
       "         10942.06194, 10901.64589],\n",
       "        ...,\n",
       "        [ 1223.12041, 12091.89532, 10175.22833, ...,  5107.77232,\n",
       "         10787.88131, 10862.07812],\n",
       "        [ 1200.80681, 12025.25664, 10264.57919, ...,  4967.50501,\n",
       "         10760.85176, 10829.41104],\n",
       "        [ 1208.18498, 11991.82502, 10269.09345, ...,  5246.64704,\n",
       "         10925.27825, 10866.34822]]),\n",
       " 'CON02T1_ROIts_DK68': array([[10917.50963, 15921.57609, 15746.11006, ...,  5130.33761,\n",
       "         10968.59094, 10996.56872],\n",
       "        [11011.39579, 15908.80255, 15747.6935 , ...,  5039.99379,\n",
       "         10946.65669, 10947.41631],\n",
       "        [10950.59031, 15848.37962, 15699.37585, ...,  5097.18374,\n",
       "         10942.06194, 10901.64589],\n",
       "        ...,\n",
       "        [10924.10736, 15755.44293, 15767.27959, ...,  5107.77232,\n",
       "         10787.88131, 10862.07812],\n",
       "        [10884.89739, 15729.31165, 15652.77679, ...,  4967.50501,\n",
       "         10760.85176, 10829.41104],\n",
       "        [10864.57557, 15777.0483 , 15545.73168, ...,  5246.64704,\n",
       "         10925.27825, 10866.34822]]),\n",
       " 'FC_cc_DK68': array([[ 1.        ,  0.39939316,  0.46350325, ...,  0.12240404,\n",
       "          0.29916646,  0.53659388],\n",
       "        [ 0.39939316,  1.        ,  0.54618851, ...,  0.03189177,\n",
       "          0.03034046,  0.57359073],\n",
       "        [ 0.46350325,  0.54618851,  1.        , ..., -0.31560847,\n",
       "          0.04586086,  0.14951289],\n",
       "        ...,\n",
       "        [ 0.12240404,  0.03189177, -0.31560847, ...,  1.        ,\n",
       "          0.0229711 ,  0.37739173],\n",
       "        [ 0.29916646,  0.03034046,  0.04586086, ...,  0.0229711 ,\n",
       "          1.        ,  0.23929224],\n",
       "        [ 0.53659388,  0.57359073,  0.14951289, ...,  0.37739173,\n",
       "          0.23929224,  1.        ]]),\n",
       " 'FC_cc': array([[ 1.        ,  0.63503395,  0.26688193, ...,  0.11599843,\n",
       "          0.18796176,  0.32572353],\n",
       "        [ 0.63503395,  1.        ,  0.2381317 , ...,  0.12047814,\n",
       "          0.17962171,  0.58003589],\n",
       "        [ 0.26688193,  0.2381317 ,  1.        , ..., -0.51081861,\n",
       "          0.18567796,  0.0358326 ],\n",
       "        ...,\n",
       "        [ 0.11599843,  0.12047814, -0.51081861, ...,  1.        ,\n",
       "          0.0229711 ,  0.37739173],\n",
       "        [ 0.18796176,  0.17962171,  0.18567796, ...,  0.0229711 ,\n",
       "          1.        ,  0.23929224],\n",
       "        [ 0.32572353,  0.58003589,  0.0358326 , ...,  0.37739173,\n",
       "          0.23929224,  1.        ]]),\n",
       " 'FC_mi': array([[1.29876276, 0.37893062, 0.19459316, ..., 0.19927235, 0.17920137,\n",
       "         0.17756994],\n",
       "        [0.37893062, 1.34012042, 0.15827146, ..., 0.17801382, 0.19071162,\n",
       "         0.2765542 ],\n",
       "        [0.19459316, 0.15827146, 1.24534718, ..., 0.30053461, 0.1889057 ,\n",
       "         0.14536997],\n",
       "        ...,\n",
       "        [0.19927235, 0.17801382, 0.30053461, ..., 1.33509264, 0.14082258,\n",
       "         0.23750187],\n",
       "        [0.17920137, 0.19071162, 0.1889057 , ..., 0.14082258, 1.35680383,\n",
       "         0.16235887],\n",
       "        [0.17756994, 0.2765542 , 0.14536997, ..., 0.23750187, 0.16235887,\n",
       "         1.34395103]]),\n",
       " 'ROI_ID_table': array([[ 1.00000000e+00,  0.00000000e+00,  1.33629000e+05, ...,\n",
       "         -7.50460740e+03,  4.84893281e+04,  5.59939375e+04],\n",
       "        [ 2.00000000e+00,  2.00000000e+00,  7.66800000e+03, ...,\n",
       "          9.04438500e+02,  4.19853438e+04,  4.10809062e+04],\n",
       "        [ 3.00000000e+00,  4.00000000e+00,  4.56000000e+02, ...,\n",
       "          6.02195210e+03,  1.73989961e+04,  1.13770439e+04],\n",
       "        ...,\n",
       "        [ 1.10000000e+02,  2.03300000e+03,  8.00000000e+01, ...,\n",
       "          0.00000000e+00,  1.17432246e+04,  1.17432246e+04],\n",
       "        [ 1.11000000e+02,  2.03400000e+03,  2.90000000e+01, ...,\n",
       "          8.07124850e+03,  1.39693926e+04,  5.89814400e+03],\n",
       "        [ 1.12000000e+02,  2.03500000e+03,  2.22000000e+02, ...,\n",
       "          5.58750730e+03,  1.58025781e+04,  1.02150703e+04]])}"
      ]
     },
     "execution_count": 51,
     "metadata": {},
     "output_type": "execute_result"
    }
   ],
   "source": [
    "BOLD = sio.loadmat(\"FC.mat\")\n",
    "BOLD"
   ]
  },
  {
   "cell_type": "code",
   "execution_count": 63,
   "metadata": {},
   "outputs": [
    {
     "data": {
      "text/plain": [
       "112"
      ]
     },
     "execution_count": 63,
     "metadata": {},
     "output_type": "execute_result"
    }
   ],
   "source": [
    "contents = sio.loadmat('FC.mat')\n",
    "a = contents['ROI_ID_table']\n",
    "a.shape[0]"
   ]
  },
  {
   "cell_type": "code",
   "execution_count": 73,
   "metadata": {},
   "outputs": [
    {
     "data": {
      "text/plain": [
       "68"
      ]
     },
     "execution_count": 73,
     "metadata": {},
     "output_type": "execute_result"
    }
   ],
   "source": [
    "contents['FC_cc_DK68'].shape[0]"
   ]
  },
  {
   "cell_type": "code",
   "execution_count": 6,
   "metadata": {},
   "outputs": [
    {
     "ename": "NameError",
     "evalue": "name 'ind' is not defined",
     "output_type": "error",
     "traceback": [
      "\u001b[0;31m---------------------------------------------------------------------------\u001b[0m",
      "\u001b[0;31mNameError\u001b[0m                                 Traceback (most recent call last)",
      "\u001b[0;32m<ipython-input-6-78646fff94e4>\u001b[0m in \u001b[0;36m<module>\u001b[0;34m\u001b[0m\n\u001b[1;32m      9\u001b[0m     \u001b[0;32mfor\u001b[0m \u001b[0mn\u001b[0m \u001b[0;32min\u001b[0m \u001b[0mrange\u001b[0m\u001b[0;34m(\u001b[0m\u001b[0mlen\u001b[0m\u001b[0;34m(\u001b[0m\u001b[0mCSF\u001b[0m\u001b[0;34m)\u001b[0m\u001b[0;34m)\u001b[0m\u001b[0;34m:\u001b[0m\u001b[0;34m\u001b[0m\u001b[0;34m\u001b[0m\u001b[0m\n\u001b[1;32m     10\u001b[0m         mat = sio.loadmat(path_to_22min_simulation+subj_list[i]+\"/\"\n\u001b[0;32m---> 11\u001b[0;31m                           \u001b[0;34m+\u001b[0m\u001b[0msubj_list\u001b[0m\u001b[0;34m[\u001b[0m\u001b[0mind\u001b[0m\u001b[0;34m[\u001b[0m\u001b[0mi\u001b[0m\u001b[0;34m]\u001b[0m\u001b[0;34m]\u001b[0m\u001b[0;34m+\u001b[0m\u001b[0;34m\"_\"\u001b[0m\u001b[0;34m+\u001b[0m\u001b[0mstr\u001b[0m\u001b[0;34m(\u001b[0m\u001b[0mnp\u001b[0m\u001b[0;34m.\u001b[0m\u001b[0mround\u001b[0m\u001b[0;34m(\u001b[0m\u001b[0mCSF\u001b[0m\u001b[0;34m[\u001b[0m\u001b[0mn\u001b[0m\u001b[0;34m]\u001b[0m\u001b[0;34m,\u001b[0m\u001b[0;36m4\u001b[0m\u001b[0;34m)\u001b[0m\u001b[0;34m)\u001b[0m\u001b[0;34m+\u001b[0m\u001b[0;34m\".mat\"\u001b[0m\u001b[0;34m,\u001b[0m\u001b[0;34m\u001b[0m\u001b[0;34m\u001b[0m\u001b[0m\n\u001b[0m\u001b[1;32m     12\u001b[0m                          variable_names=\"Bold_data\")\n\u001b[1;32m     13\u001b[0m         \u001b[0mBOLD\u001b[0m \u001b[0;34m=\u001b[0m \u001b[0mnp\u001b[0m\u001b[0;34m.\u001b[0m\u001b[0msqueeze\u001b[0m\u001b[0;34m(\u001b[0m\u001b[0mmat\u001b[0m\u001b[0;34m[\u001b[0m\u001b[0;34m'Bold_data'\u001b[0m\u001b[0;34m]\u001b[0m\u001b[0;34m)\u001b[0m\u001b[0;34m\u001b[0m\u001b[0;34m\u001b[0m\u001b[0m\n",
      "\u001b[0;31mNameError\u001b[0m: name 'ind' is not defined"
     ]
    }
   ],
   "source": [
    "# only 4 subjects were simulated with 22 min\n",
    "# calculate simulated FCDs for each global coupling scaling factor\n",
    "CSF = np.arange(0.025,0.0401,0.0001)\n",
    "window_length = 30; #[samples]\n",
    "overlap       = 20; #[samples]\n",
    "all_simFCDs = np.zeros((4,151,63,63))\n",
    "path_to_22min_simulation = \"\"\n",
    "for i in range(len(subj_list)):\n",
    "    for n in range(len(CSF)):\n",
    "        mat = sio.loadmat(path_to_22min_simulation+subj_list[i]+\"/\"\n",
    "                          +subj_list[ind[i]]+\"_\"+str(np.round(CSF[n],4))+\".mat\",\n",
    "                         variable_names=\"Bold_data\")\n",
    "        BOLD = np.squeeze(mat['Bold_data'])\n",
    "        BOLD = BOLD[40::4,:].T # cut out first 20s due to gradient, downsample to 0.5 Hz\n",
    "        \n",
    "        #compute sim FCD\n",
    "        all_simFCDs[i,n,:,:], _      = FCD(BOLD,window_length,overlap)"
   ]
  },
  {
   "cell_type": "code",
   "execution_count": null,
   "metadata": {},
   "outputs": [],
   "source": [
    "# compare FCDs using the Kolmogorov-Smirnof distance measure\n",
    "# import test from R\n",
    "ks_dist = rp.r('ks.test')\n",
    "all_KS_dist = np.zeros((4,151))\n",
    "a,b = np.triu_indices(63,1)\n",
    "for n in range(4):\n",
    "    for i in range(151):\n",
    "        all_KS_dist[n,i] = ks_dist(all_simFCDs[i,a,b],all_FCDs[i,a,b])[0][0]"
   ]
  },
  {
   "cell_type": "code",
   "execution_count": null,
   "metadata": {},
   "outputs": [],
   "source": [
    "# save results \n",
    "path_to_save = \"\" # specify where to save results\n",
    "sio.savemat(path_to_save+\"/FCD_KS_distance.mat\",mdict={\"all_KS_dist\":all_KS_dist})"
   ]
  },
  {
   "cell_type": "code",
   "execution_count": null,
   "metadata": {},
   "outputs": [],
   "source": []
  }
 ],
 "metadata": {
  "kernelspec": {
   "display_name": "Python 3",
   "language": "python",
   "name": "python3"
  },
  "language_info": {
   "codemirror_mode": {
    "name": "ipython",
    "version": 3
   },
   "file_extension": ".py",
   "mimetype": "text/x-python",
   "name": "python",
   "nbconvert_exporter": "python",
   "pygments_lexer": "ipython3",
   "version": "3.7.8"
  }
 },
 "nbformat": 4,
 "nbformat_minor": 4
}
